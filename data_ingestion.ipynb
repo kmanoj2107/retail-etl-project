{
 "cells": [
  {
   "cell_type": "code",
   "execution_count": 0,
   "metadata": {
    "application/vnd.databricks.v1+cell": {
     "cellMetadata": {
      "byteLimit": 2048000,
      "rowLimit": 10000
     },
     "inputWidgets": {},
     "nuid": "052b8f17-7267-43f9-983b-460d55fd4343",
     "showTitle": false,
     "tableResultSettingsMap": {},
     "title": ""
    }
   },
   "outputs": [],
   "source": [
    "sales_path = \"/FileStore/tables/sales.csv\"\n",
    "customers_path = \"/FileStore/tables/customers.csv\"\n",
    "products_path = \"/FileStore/tables/products.csv\"\n",
    "stores_path = \"/FileStore/tables/stores.csv\"\n",
    "promotions_path = \"/FileStore/tables/promotions.csv\"\n"
   ]
  },
  {
   "cell_type": "code",
   "execution_count": 0,
   "metadata": {
    "application/vnd.databricks.v1+cell": {
     "cellMetadata": {
      "byteLimit": 2048000,
      "rowLimit": 10000
     },
     "inputWidgets": {},
     "nuid": "07abbf85-1b96-4534-9ffe-d1882fcf00ad",
     "showTitle": false,
     "tableResultSettingsMap": {},
     "title": ""
    }
   },
   "outputs": [],
   "source": [
    "sales_schema = spark.table(\"sales\").schema\n",
    "customers_schema = spark.table(\"customers\").schema\n",
    "products_schema = spark.table(\"products\").schema\n",
    "stores_schema = spark.table(\"stores\").schema\n",
    "promotions_schema = spark.table(\"promotions\").schema"
   ]
  },
  {
   "cell_type": "code",
   "execution_count": 0,
   "metadata": {
    "application/vnd.databricks.v1+cell": {
     "cellMetadata": {
      "byteLimit": 2048000,
      "rowLimit": 10000
     },
     "inputWidgets": {},
     "nuid": "d9e0c8dc-c35f-472c-837a-75cbac45f9a2",
     "showTitle": false,
     "tableResultSettingsMap": {},
     "title": ""
    }
   },
   "outputs": [],
   "source": [
    "sales_df = spark.read.option(\"header\" , True).schema(sales_schema).csv(sales_path)\n",
    "customers_df = spark.read.option(\"header\" , True).schema(customers_schema).csv(customers_path)\n",
    "products_df = spark.read.option(\"header\" , True).schema(products_schema).csv(products_path)\n",
    "stores_df = spark.read.option(\"header\" , True).schema(stores_schema).csv(stores_path)\n",
    "promotions_df = spark.read.option(\"header\" , True).schema(promotions_schema).csv(promotions_path)\n"
   ]
  },
  {
   "cell_type": "code",
   "execution_count": 0,
   "metadata": {
    "application/vnd.databricks.v1+cell": {
     "cellMetadata": {
      "byteLimit": 2048000,
      "rowLimit": 10000
     },
     "inputWidgets": {},
     "nuid": "ec333dfe-7bb5-4a55-a5d3-43cf17c18113",
     "showTitle": false,
     "tableResultSettingsMap": {},
     "title": ""
    }
   },
   "outputs": [],
   "source": [
    "sales_df.write.format(\"delta\").mode(\"overwrite\").saveAsTable(\"sales\")\n",
    "customers_df.write.format(\"delta\").mode(\"overwrite\").saveAsTable(\"customers\")\n",
    "products_df.write.format(\"delta\").mode(\"overwrite\").saveAsTable(\"products\")\n",
    "stores_df.write.format(\"delta\").mode(\"overwrite\").saveAsTable(\"stores\")\n",
    "promotions_df.write.format(\"delta\").mode(\"overwrite\").saveAsTable(\"promotions\")"
   ]
  }
 ],
 "metadata": {
  "application/vnd.databricks.v1+notebook": {
   "computePreferences": null,
   "dashboards": [],
   "environmentMetadata": {
    "base_environment": "",
    "environment_version": "1"
   },
   "inputWidgetPreferences": null,
   "language": "python",
   "notebookMetadata": {
    "pythonIndentUnit": 4
   },
   "notebookName": "Data Ingestion",
   "widgets": {}
  }
 },
 "nbformat": 4,
 "nbformat_minor": 0
}