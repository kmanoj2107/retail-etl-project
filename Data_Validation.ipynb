{
 "cells": [
  {
   "cell_type": "code",
   "execution_count": 0,
   "metadata": {
    "application/vnd.databricks.v1+cell": {
     "cellMetadata": {
      "byteLimit": 2048000,
      "rowLimit": 10000
     },
     "inputWidgets": {},
     "nuid": "d501bd10-a070-4cbd-b7e5-2299701cccbb",
     "showTitle": false,
     "tableResultSettingsMap": {},
     "title": ""
    }
   },
   "outputs": [],
   "source": [
    "from pyspark.sql.functions import *\n",
    "from pyspark.sql.types import *"
   ]
  },
  {
   "cell_type": "code",
   "execution_count": 0,
   "metadata": {
    "application/vnd.databricks.v1+cell": {
     "cellMetadata": {
      "byteLimit": 2048000,
      "rowLimit": 10000
     },
     "inputWidgets": {},
     "nuid": "44b62d1c-69b4-4a93-9404-2db47287eae9",
     "showTitle": false,
     "tableResultSettingsMap": {},
     "title": ""
    }
   },
   "outputs": [],
   "source": [
    "%run /Users/roboticsmanoj@gmail.com/retail_sales_project/Table_Definitions\n"
   ]
  },
  {
   "cell_type": "code",
   "execution_count": 0,
   "metadata": {
    "application/vnd.databricks.v1+cell": {
     "cellMetadata": {
      "byteLimit": 2048000,
      "rowLimit": 10000
     },
     "inputWidgets": {},
     "nuid": "c4e9a81f-097a-473d-966e-20d5df1d7bf7",
     "showTitle": false,
     "tableResultSettingsMap": {},
     "title": ""
    }
   },
   "outputs": [
    {
     "output_type": "display_data",
     "data": {
      "text/html": [
       "<style scoped>\n",
       "  .table-result-container {\n",
       "    max-height: 300px;\n",
       "    overflow: auto;\n",
       "  }\n",
       "  table, th, td {\n",
       "    border: 1px solid black;\n",
       "    border-collapse: collapse;\n",
       "  }\n",
       "  th, td {\n",
       "    padding: 5px;\n",
       "  }\n",
       "  th {\n",
       "    text-align: left;\n",
       "  }\n",
       "</style><div class='table-result-container'><table class='table-result'><thead style='background-color: white'><tr></tr></thead><tbody></tbody></table></div>"
      ]
     },
     "metadata": {
      "application/vnd.databricks.v1+output": {
       "addedWidgets": {},
       "aggData": [],
       "aggError": "",
       "aggOverflow": false,
       "aggSchema": [],
       "aggSeriesLimitReached": false,
       "aggType": "",
       "arguments": {},
       "columnCustomDisplayInfos": {},
       "data": [],
       "datasetInfos": [],
       "dbfsResultPath": null,
       "isJsonSchema": true,
       "metadata": {
        "dataframeName": null
       },
       "overflow": false,
       "plotOptions": {
        "customPlotOptions": {},
        "displayType": "table",
        "pivotAggregation": null,
        "pivotColumns": null,
        "xColumns": null,
        "yColumns": null
       },
       "removedWidgets": [],
       "schema": [],
       "type": "table"
      }
     },
     "output_type": "display_data"
    },
    {
     "output_type": "display_data",
     "data": {
      "text/html": [
       "<style scoped>\n",
       "  .table-result-container {\n",
       "    max-height: 300px;\n",
       "    overflow: auto;\n",
       "  }\n",
       "  table, th, td {\n",
       "    border: 1px solid black;\n",
       "    border-collapse: collapse;\n",
       "  }\n",
       "  th, td {\n",
       "    padding: 5px;\n",
       "  }\n",
       "  th {\n",
       "    text-align: left;\n",
       "  }\n",
       "</style><div class='table-result-container'><table class='table-result'><thead style='background-color: white'><tr></tr></thead><tbody></tbody></table></div>"
      ]
     },
     "metadata": {
      "application/vnd.databricks.v1+output": {
       "addedWidgets": {},
       "aggData": [],
       "aggError": "",
       "aggOverflow": false,
       "aggSchema": [],
       "aggSeriesLimitReached": false,
       "aggType": "",
       "arguments": {},
       "columnCustomDisplayInfos": {},
       "data": [],
       "datasetInfos": [],
       "dbfsResultPath": null,
       "isJsonSchema": true,
       "metadata": {
        "dataframeName": null
       },
       "overflow": false,
       "plotOptions": {
        "customPlotOptions": {},
        "displayType": "table",
        "pivotAggregation": null,
        "pivotColumns": null,
        "xColumns": null,
        "yColumns": null
       },
       "removedWidgets": [],
       "schema": [],
       "type": "table"
      }
     },
     "output_type": "display_data"
    }
   ],
   "source": [
    "%run /Users/roboticsmanoj@gmail.com/retail_sales_project/Data_Ingestion"
   ]
  },
  {
   "cell_type": "code",
   "execution_count": 0,
   "metadata": {
    "application/vnd.databricks.v1+cell": {
     "cellMetadata": {
      "byteLimit": 2048000,
      "rowLimit": 10000
     },
     "inputWidgets": {},
     "nuid": "f130e90f-0ce8-4f85-ad04-e10f8488ef7d",
     "showTitle": false,
     "tableResultSettingsMap": {},
     "title": ""
    }
   },
   "outputs": [
    {
     "output_type": "stream",
     "name": "stdout",
     "output_type": "stream",
     "text": [
      "+-------+-----------+----------+--------+----------+--------+--------+--------------+\n|sale_id|customer_id|product_id|store_id| sale_date|  amount|discount|payment_method|\n+-------+-----------+----------+--------+----------+--------+--------+--------------+\n| 500000|     945173|    954042|  300376|2019-12-31|  555.60|   21.39|        paypal|\n| 500001|     102351|    200093|  300178|2022-02-06|14048.03|   11.96|         check|\n| 500002|     104649|    200015|  300409|2023-08-15| 9448.34|   13.29|         check|\n| 500003|     106302|    200741|  300283|2024-01-05|12295.88|   28.49|          card|\n| 500004|     103450|    200834|  300166|2023-12-30|13112.78|    1.11|          card|\n+-------+-----------+----------+--------+----------+--------+--------+--------------+\nonly showing top 5 rows\n\n"
     ]
    },
    {
     "output_type": "execute_result",
     "data": {
      "text/plain": [
       "True"
      ]
     },
     "execution_count": 3,
     "metadata": {},
     "output_type": "execute_result"
    }
   ],
   "source": [
    "sales_df.show(5)"
   ]
  },
  {
   "cell_type": "code",
   "execution_count": 0,
   "metadata": {
    "application/vnd.databricks.v1+cell": {
     "cellMetadata": {
      "byteLimit": 2048000,
      "rowLimit": 10000
     },
     "inputWidgets": {},
     "nuid": "fc8a3040-226e-4ec5-a36c-ac2e3a9873f6",
     "showTitle": false,
     "tableResultSettingsMap": {},
     "title": ""
    }
   },
   "outputs": [
    {
     "output_type": "display_data",
     "data": {
      "text/html": [
       "<style scoped>\n",
       "  .table-result-container {\n",
       "    max-height: 300px;\n",
       "    overflow: auto;\n",
       "  }\n",
       "  table, th, td {\n",
       "    border: 1px solid black;\n",
       "    border-collapse: collapse;\n",
       "  }\n",
       "  th, td {\n",
       "    padding: 5px;\n",
       "  }\n",
       "  th {\n",
       "    text-align: left;\n",
       "  }\n",
       "</style><div class='table-result-container'><table class='table-result'><thead style='background-color: white'><tr></tr></thead><tbody></tbody></table></div>"
      ]
     },
     "metadata": {
      "application/vnd.databricks.v1+output": {
       "addedWidgets": {},
       "aggData": [],
       "aggError": "",
       "aggOverflow": false,
       "aggSchema": [],
       "aggSeriesLimitReached": false,
       "aggType": "",
       "arguments": {},
       "columnCustomDisplayInfos": {},
       "data": [],
       "datasetInfos": [],
       "dbfsResultPath": null,
       "isJsonSchema": true,
       "metadata": {
        "dataframeName": null
       },
       "overflow": false,
       "plotOptions": {
        "customPlotOptions": {},
        "displayType": "table",
        "pivotAggregation": null,
        "pivotColumns": null,
        "xColumns": null,
        "yColumns": null
       },
       "removedWidgets": [],
       "schema": [],
       "type": "table"
      }
     },
     "output_type": "display_data"
    },
    {
     "output_type": "display_data",
     "data": {
      "text/html": [
       "<style scoped>\n",
       "  .table-result-container {\n",
       "    max-height: 300px;\n",
       "    overflow: auto;\n",
       "  }\n",
       "  table, th, td {\n",
       "    border: 1px solid black;\n",
       "    border-collapse: collapse;\n",
       "  }\n",
       "  th, td {\n",
       "    padding: 5px;\n",
       "  }\n",
       "  th {\n",
       "    text-align: left;\n",
       "  }\n",
       "</style><div class='table-result-container'><table class='table-result'><thead style='background-color: white'><tr></tr></thead><tbody></tbody></table></div>"
      ]
     },
     "metadata": {
      "application/vnd.databricks.v1+output": {
       "addedWidgets": {},
       "aggData": [],
       "aggError": "",
       "aggOverflow": false,
       "aggSchema": [],
       "aggSeriesLimitReached": false,
       "aggType": "",
       "arguments": {},
       "columnCustomDisplayInfos": {},
       "data": [],
       "datasetInfos": [],
       "dbfsResultPath": null,
       "isJsonSchema": true,
       "metadata": {
        "dataframeName": null
       },
       "overflow": false,
       "plotOptions": {
        "customPlotOptions": {},
        "displayType": "table",
        "pivotAggregation": null,
        "pivotColumns": null,
        "xColumns": null,
        "yColumns": null
       },
       "removedWidgets": [],
       "schema": [],
       "type": "table"
      }
     },
     "output_type": "display_data"
    },
    {
     "output_type": "display_data",
     "data": {
      "text/html": [
       "<style scoped>\n",
       "  .table-result-container {\n",
       "    max-height: 300px;\n",
       "    overflow: auto;\n",
       "  }\n",
       "  table, th, td {\n",
       "    border: 1px solid black;\n",
       "    border-collapse: collapse;\n",
       "  }\n",
       "  th, td {\n",
       "    padding: 5px;\n",
       "  }\n",
       "  th {\n",
       "    text-align: left;\n",
       "  }\n",
       "</style><div class='table-result-container'><table class='table-result'><thead style='background-color: white'><tr></tr></thead><tbody></tbody></table></div>"
      ]
     },
     "metadata": {
      "application/vnd.databricks.v1+output": {
       "addedWidgets": {},
       "aggData": [],
       "aggError": "",
       "aggOverflow": false,
       "aggSchema": [],
       "aggSeriesLimitReached": false,
       "aggType": "",
       "arguments": {},
       "columnCustomDisplayInfos": {},
       "data": [],
       "datasetInfos": [],
       "dbfsResultPath": null,
       "isJsonSchema": true,
       "metadata": {
        "dataframeName": null
       },
       "overflow": false,
       "plotOptions": {
        "customPlotOptions": {},
        "displayType": "table",
        "pivotAggregation": null,
        "pivotColumns": null,
        "xColumns": null,
        "yColumns": null
       },
       "removedWidgets": [],
       "schema": [],
       "type": "table"
      }
     },
     "output_type": "display_data"
    },
    {
     "output_type": "display_data",
     "data": {
      "text/html": [
       "<style scoped>\n",
       "  .table-result-container {\n",
       "    max-height: 300px;\n",
       "    overflow: auto;\n",
       "  }\n",
       "  table, th, td {\n",
       "    border: 1px solid black;\n",
       "    border-collapse: collapse;\n",
       "  }\n",
       "  th, td {\n",
       "    padding: 5px;\n",
       "  }\n",
       "  th {\n",
       "    text-align: left;\n",
       "  }\n",
       "</style><div class='table-result-container'><table class='table-result'><thead style='background-color: white'><tr></tr></thead><tbody></tbody></table></div>"
      ]
     },
     "metadata": {
      "application/vnd.databricks.v1+output": {
       "addedWidgets": {},
       "aggData": [],
       "aggError": "",
       "aggOverflow": false,
       "aggSchema": [],
       "aggSeriesLimitReached": false,
       "aggType": "",
       "arguments": {},
       "columnCustomDisplayInfos": {},
       "data": [],
       "datasetInfos": [],
       "dbfsResultPath": null,
       "isJsonSchema": true,
       "metadata": {
        "dataframeName": null
       },
       "overflow": false,
       "plotOptions": {
        "customPlotOptions": {},
        "displayType": "table",
        "pivotAggregation": null,
        "pivotColumns": null,
        "xColumns": null,
        "yColumns": null
       },
       "removedWidgets": [],
       "schema": [],
       "type": "table"
      }
     },
     "output_type": "display_data"
    },
    {
     "output_type": "display_data",
     "data": {
      "text/html": [
       "<style scoped>\n",
       "  .table-result-container {\n",
       "    max-height: 300px;\n",
       "    overflow: auto;\n",
       "  }\n",
       "  table, th, td {\n",
       "    border: 1px solid black;\n",
       "    border-collapse: collapse;\n",
       "  }\n",
       "  th, td {\n",
       "    padding: 5px;\n",
       "  }\n",
       "  th {\n",
       "    text-align: left;\n",
       "  }\n",
       "</style><div class='table-result-container'><table class='table-result'><thead style='background-color: white'><tr></tr></thead><tbody></tbody></table></div>"
      ]
     },
     "metadata": {
      "application/vnd.databricks.v1+output": {
       "addedWidgets": {},
       "aggData": [],
       "aggError": "",
       "aggOverflow": false,
       "aggSchema": [],
       "aggSeriesLimitReached": false,
       "aggType": "",
       "arguments": {},
       "columnCustomDisplayInfos": {},
       "data": [],
       "datasetInfos": [],
       "dbfsResultPath": null,
       "isJsonSchema": true,
       "metadata": {
        "dataframeName": null
       },
       "overflow": false,
       "plotOptions": {
        "customPlotOptions": {},
        "displayType": "table",
        "pivotAggregation": null,
        "pivotColumns": null,
        "xColumns": null,
        "yColumns": null
       },
       "removedWidgets": [],
       "schema": [],
       "type": "table"
      }
     },
     "output_type": "display_data"
    }
   ],
   "source": [
    "sales_df_customer_flag = sales_df.join(customers_df.select(col(\"customer_id\")).withColumn(\"customer_id_valid_flag\" , lit(True)) , on = \"customer_id\" , how = \"left\")\n",
    "\n",
    "sales_df_errors = sales_df_customer_flag.withColumn(\"Validation_Errors\",  concat_ws(\",\", array(\n",
    "    when(col(\"customer_id_valid_flag\").isNull(),\n",
    "         lit(\"Referential Integrity compromised. Invalid Customer ID\")),\n",
    "            when(col(\"sale_id\").isNull(), lit(\"Invalid Sale ID\")),\n",
    "            when(col(\"customer_id\").isNull(), lit(\"Invalid Customer ID\")),\n",
    "            when(col(\"sale_date\") < to_date(lit(\"2020-01-01\")), lit(\"Invalid Date\")),\n",
    "            when(col(\"amount\") < 4000, lit(\"Invalid Amount\")),\n",
    "            when(~col(\"payment_method\").isin(\"card\", \"cash\", \"upi\"), lit(\"Invalid Payment Method\"))\n",
    "        ))\n",
    "    )\n"
   ]
  },
  {
   "cell_type": "code",
   "execution_count": 0,
   "metadata": {
    "application/vnd.databricks.v1+cell": {
     "cellMetadata": {
      "byteLimit": 2048000,
      "rowLimit": 10000
     },
     "inputWidgets": {},
     "nuid": "a152d53d-1b0f-4f4c-9173-f74dd750d1db",
     "showTitle": false,
     "tableResultSettingsMap": {},
     "title": ""
    }
   },
   "outputs": [
    {
     "output_type": "stream",
     "name": "stdout",
     "output_type": "stream",
     "text": [
      "+-----------------+--------+\n|Validation_Errors|count(1)|\n+-----------------+--------+\n|   Invalid Amount|  100000|\n+-----------------+--------+\n\n"
     ]
    }
   ],
   "source": [
    "sales_df_errors.select(col(\"Validation_Errors\")).groupBy(col(\"Validation_Errors\")).agg(count(\"*\")).show()"
   ]
  },
  {
   "cell_type": "code",
   "execution_count": 0,
   "metadata": {
    "application/vnd.databricks.v1+cell": {
     "cellMetadata": {
      "byteLimit": 2048000,
      "rowLimit": 10000
     },
     "inputWidgets": {},
     "nuid": "6088d0be-dc94-4b07-ab3d-c5a75c352eb6",
     "showTitle": false,
     "tableResultSettingsMap": {},
     "title": ""
    }
   },
   "outputs": [
    {
     "output_type": "stream",
     "name": "stdout",
     "output_type": "stream",
     "text": [
      "+-----------+-------+----------+--------+----------+--------+--------+--------------+----------------------+-----------------+\n|customer_id|sale_id|product_id|store_id| sale_date|  amount|discount|payment_method|customer_id_valid_flag|Validation_Errors|\n+-----------+-------+----------+--------+----------+--------+--------+--------------+----------------------+-----------------+\n|     106302| 500003|    200741|  300283|2024-01-05|12295.88|   28.49|          card|                  true|                 |\n|     103450| 500004|    200834|  300166|2023-12-30|13112.78|    1.11|          card|                  true|                 |\n|     104306| 500006|    200840|  300357|2021-06-21| 8159.18|   26.21|          card|                  true|                 |\n|     103721| 500007|    200533|  300264|2022-03-28|17560.44|   10.03|          card|                  true|                 |\n|     100888| 500009|    200431|  300096|2021-11-13|18021.82|   18.37|           upi|                  true|                 |\n+-----------+-------+----------+--------+----------+--------+--------+--------------+----------------------+-----------------+\nonly showing top 5 rows\n\n+-----------+-------+----------+--------+----------+--------+--------+--------------+----------------------+--------------------+\n|customer_id|sale_id|product_id|store_id| sale_date|  amount|discount|payment_method|customer_id_valid_flag|   Validation_Errors|\n+-----------+-------+----------+--------+----------+--------+--------+--------------+----------------------+--------------------+\n|     945173| 500000|    954042|  300376|2019-12-31|  555.60|   21.39|        paypal|                  NULL|Referential Integ...|\n|     102351| 500001|    200093|  300178|2022-02-06|14048.03|   11.96|         check|                  true|Invalid Payment M...|\n|     104649| 500002|    200015|  300409|2023-08-15| 9448.34|   13.29|         check|                  true|Invalid Payment M...|\n|     106147| 500005|    200105|  300260|2023-11-01|17112.35|    5.33|       bitcoin|                  true|Invalid Payment M...|\n|     101909| 500008|    200152|  300117|2020-06-03|10593.76|   23.14|       bitcoin|                  true|Invalid Payment M...|\n+-----------+-------+----------+--------+----------+--------+--------+--------------+----------------------+--------------------+\nonly showing top 5 rows\n\n"
     ]
    }
   ],
   "source": [
    "sales_df_validated = sales_df_errors.filter(col(\"Validation_Errors\") == \"\")\n",
    "sales_df_invalid = sales_df_errors.filter(col(\"Validation_Errors\") != \"\")\n",
    "sales_df_validated.show(5)\n",
    "sales_df_invalid.limit(20).show(truncate=False)\n"
   ]
  },
  {
   "cell_type": "code",
   "execution_count": 0,
   "metadata": {
    "application/vnd.databricks.v1+cell": {
     "cellMetadata": {
      "byteLimit": 2048000,
      "rowLimit": 10000
     },
     "inputWidgets": {},
     "nuid": "9b323160-8cbe-43fd-b65a-f39762491c16",
     "showTitle": false,
     "tableResultSettingsMap": {},
     "title": ""
    }
   },
   "outputs": [
    {
     "output_type": "stream",
     "name": "stdout",
     "output_type": "stream",
     "text": [
      "+-----------+-------+----------+--------+----------+--------+--------+--------------+----------------------+-----------------+\n|customer_id|sale_id|product_id|store_id| sale_date|  amount|discount|payment_method|customer_id_valid_flag|Validation_Errors|\n+-----------+-------+----------+--------+----------+--------+--------+--------------+----------------------+-----------------+\n|     106302| 500003|    200741|  300283|2024-01-05|12295.88|   28.49|          card|                  true|                 |\n|     103450| 500004|    200834|  300166|2023-12-30|13112.78|    1.11|          card|                  true|                 |\n|     104306| 500006|    200840|  300357|2021-06-21| 8159.18|   26.21|          card|                  true|                 |\n|     103721| 500007|    200533|  300264|2022-03-28|17560.44|   10.03|          card|                  true|                 |\n|     100888| 500009|    200431|  300096|2021-11-13|18021.82|   18.37|           upi|                  true|                 |\n+-----------+-------+----------+--------+----------+--------+--------+--------------+----------------------+-----------------+\nonly showing top 5 rows\n\n+-----------+-------+----------+--------+----------+--------+--------+--------------+----------------------+---------------------------------------------------------------------------------------------------------+\n|customer_id|sale_id|product_id|store_id|sale_date |amount  |discount|payment_method|customer_id_valid_flag|Validation_Errors                                                                                        |\n+-----------+-------+----------+--------+----------+--------+--------+--------------+----------------------+---------------------------------------------------------------------------------------------------------+\n|945173     |500000 |954042    |300376  |2019-12-31|555.60  |21.39   |paypal        |NULL                  |Referential Integrity compromised. Invalid Customer ID,Invalid Date,Invalid Amount,Invalid Payment Method|\n|103834     |500040 |200436    |300118  |2020-04-09|477.32  |6.77    |check         |true                  |Invalid Amount,Invalid Payment Method                                                                    |\n|938217     |500050 |200756    |300183  |2023-09-16|14244.90|13.89   |card          |NULL                  |Referential Integrity compromised. Invalid Customer ID                                                   |\n|109304     |500080 |200087    |300183  |2021-09-05|2688.26 |1.39    |upi           |true                  |Invalid Amount                                                                                           |\n|997468     |500100 |200128    |300079  |2019-12-31|4253.37 |10.51   |cash          |NULL                  |Referential Integrity compromised. Invalid Customer ID,Invalid Date                                      |\n|105508     |500120 |947891    |300409  |2022-07-22|2303.90 |16.18   |paypal        |true                  |Invalid Amount,Invalid Payment Method                                                                    |\n|986918     |500150 |200392    |300351  |2024-01-23|19486.71|5.15    |paypal        |NULL                  |Referential Integrity compromised. Invalid Customer ID,Invalid Payment Method                            |\n|102837     |500160 |200617    |300354  |2022-07-11|763.23  |10.38   |upi           |true                  |Invalid Amount                                                                                           |\n|955214     |500200 |200853    |300385  |2019-12-31|2420.68 |3.52    |upi           |NULL                  |Referential Integrity compromised. Invalid Customer ID,Invalid Date,Invalid Amount                       |\n|107665     |500240 |997432    |300231  |2020-05-18|2030.16 |9.31    |paypal        |true                  |Invalid Amount,Invalid Payment Method                                                                    |\n|993041     |500250 |200930    |300354  |2022-11-09|12723.98|27.55   |check         |NULL                  |Referential Integrity compromised. Invalid Customer ID,Invalid Payment Method                            |\n|104752     |500280 |200976    |300474  |2021-11-26|1484.93 |10.26   |bitcoin       |true                  |Invalid Amount,Invalid Payment Method                                                                    |\n|988936     |500300 |984296    |300477  |2019-12-31|13491.82|22.28   |paypal        |NULL                  |Referential Integrity compromised. Invalid Customer ID,Invalid Date,Invalid Payment Method               |\n|105271     |500320 |200856    |300297  |2021-09-10|2918.91 |10.44   |bitcoin       |true                  |Invalid Amount,Invalid Payment Method                                                                    |\n|959705     |500350 |200023    |300172  |2022-07-16|6956.27 |13.88   |bitcoin       |NULL                  |Referential Integrity compromised. Invalid Customer ID,Invalid Payment Method                            |\n|101334     |500360 |928623    |300255  |2021-11-08|2999.52 |4.50    |paypal        |true                  |Invalid Amount,Invalid Payment Method                                                                    |\n|917215     |500400 |200821    |300151  |2019-12-31|23.37   |22.90   |upi           |NULL                  |Referential Integrity compromised. Invalid Customer ID,Invalid Date,Invalid Amount                       |\n|101887     |500440 |200830    |300383  |2022-03-26|1544.13 |12.93   |check         |true                  |Invalid Amount,Invalid Payment Method                                                                    |\n|949337     |500450 |200188    |300062  |2023-08-03|12800.69|26.89   |paypal        |NULL                  |Referential Integrity compromised. Invalid Customer ID,Invalid Payment Method                            |\n|104626     |500480 |964872    |300341  |2023-11-13|348.86  |4.39    |paypal        |true                  |Invalid Amount,Invalid Payment Method                                                                    |\n+-----------+-------+----------+--------+----------+--------+--------+--------------+----------------------+---------------------------------------------------------------------------------------------------------+\nonly showing top 20 rows\n\n"
     ]
    }
   ],
   "source": [
    "sales_df_validated.show(5)\n",
    "sales_df_invalid.limit(50).show(truncate=False)"
   ]
  },
  {
   "cell_type": "code",
   "execution_count": 0,
   "metadata": {
    "application/vnd.databricks.v1+cell": {
     "cellMetadata": {
      "byteLimit": 2048000,
      "rowLimit": 10000
     },
     "inputWidgets": {},
     "nuid": "b5f34373-f7be-4c3a-ad80-2645d1dd2612",
     "showTitle": false,
     "tableResultSettingsMap": {},
     "title": ""
    }
   },
   "outputs": [],
   "source": [
    "is_datetype = isinstance(customers_df.schema[\"join_date\"].dataType , DateType)\n",
    "email_regex = \"^[a-zA-Z0-9_.'-]+@[A-Za-z]+\\.[A-Za-z]{2,}$\"\n",
    "schema_flag_col = lit(\"Joining Date DataType Invalid\") if not is_datetype else lit(None)\n",
    "\n",
    "customers_df_errors = customers_df.withColumn(\"Validation Errors\" , concat_ws(\", \" ,\n",
    "\n",
    "    schema_flag_col,\n",
    "    when(~col(\"email\").rlike(email_regex) , lit(\"Invalid Email\"))        \n",
    "                                                                       \n",
    ")   )"
   ]
  },
  {
   "cell_type": "code",
   "execution_count": 0,
   "metadata": {
    "application/vnd.databricks.v1+cell": {
     "cellMetadata": {
      "byteLimit": 2048000,
      "rowLimit": 10000
     },
     "inputWidgets": {},
     "nuid": "ad5b1d08-4607-4cb0-bef9-bb90905d3bef",
     "showTitle": false,
     "tableResultSettingsMap": {},
     "title": ""
    }
   },
   "outputs": [
    {
     "output_type": "stream",
     "name": "stdout",
     "output_type": "stream",
     "text": [
      "+-----------+------------------+--------------------+----------+-----------------+\n|customer_id|              name|               email| join_date|Validation Errors|\n+-----------+------------------+--------------------+----------+-----------------+\n|     100001|   Samantha Cooper| scottdiaz@gmail.com|2023-08-03|                 |\n|     100003|         John Pugh|elizabethgould@jo...|2022-06-06|                 |\n|     100004|   Catherine Avery|     fchoi@gmail.com|2022-04-22|                 |\n|     100006|       Donald Hunt|armstrongtravis@y...|2020-05-28|                 |\n|     100007|     Shannon Jones|skinneranthony@ho...|2023-07-17|                 |\n|     100008|    Kimberly Lewis|cbennett@hotmail.com|2024-10-03|                 |\n|     100009|Michelle Rodriguez|  andrew47@gmail.com|2023-04-23|                 |\n|     100011|      Samuel Mills|  alicia83@gmail.com|2023-06-10|                 |\n|     100012|     Michael Lopez| keith77@hotmail.com|2020-08-15|                 |\n|     100013|    Jonathan Mckee|   pwarren@gmail.com|2025-05-06|                 |\n|     100014|    Megan Williams|taylorbrandy@warr...|2022-02-06|                 |\n|     100015|          John Kim|joshuamendoza@wu.biz|2022-12-14|                 |\n|     100016|       David Young|kennethbecker@hot...|2022-03-18|                 |\n|     100017|    Michael Murphy|melendezgary@well...|2023-07-18|                 |\n|     100018|      Emily Thomas|paigebeard@hotmai...|2021-07-28|                 |\n|     100019|     Daniel Taylor|heather43@fuller.org|2024-04-11|                 |\n|     100021|    Anthony Zamora|    llyons@yahoo.com|2022-06-30|                 |\n|     100022| Christopher Smith|anthonywallace@ho...|2021-04-29|                 |\n|     100023|    Jeremy Jenkins|welchdavid@hotmai...|2024-08-18|                 |\n|     100024|     Robert Fisher| hillashley@kent.net|2021-12-11|                 |\n+-----------+------------------+--------------------+----------+-----------------+\nonly showing top 20 rows\n\n+-----------+-----------------+--------------------+----------+-----------------+\n|customer_id|             name|               email| join_date|Validation Errors|\n+-----------+-----------------+--------------------+----------+-----------------+\n|     100000|Kimberly Mitchell|       invalid_email|      NULL|    Invalid Email|\n|     100002|     Taylor Moore|donald48@allen-ho...|2023-07-31|    Invalid Email|\n|     100005|Jacqueline Duncan|tvalencia@wood-ly...|2023-08-12|    Invalid Email|\n|     100010|     Paige Carter|xsmith@ingram-ste...|2024-08-07|    Invalid Email|\n|     100020|    Pamela Wright|       invalid_email|2023-06-12|    Invalid Email|\n|     100025|      Todd Morgan|dpeterson@weber-j...|2023-08-09|    Invalid Email|\n|     100028|    Tyler Bradley|zmiller@robinson-...|2022-03-28|    Invalid Email|\n|     100040|   Monica Wallace|       invalid_email|2024-07-31|    Invalid Email|\n|     100046|    Emma Bradshaw|valdezmatthew@jon...|2021-02-11|    Invalid Email|\n|     100049|    Brendan Davis|gclark@davis-ridd...|2021-12-11|    Invalid Email|\n|     100052|       Todd Parks|andrew90@aguilar-...|2023-07-07|    Invalid Email|\n|     100060|  Steven Gonzalez|       invalid_email|2021-03-07|    Invalid Email|\n|     100062|        Jill Sims|bhughes@davis-fra...|2024-11-02|    Invalid Email|\n|     100064|      Mary Watson|anthony86@erickso...|2024-01-23|    Invalid Email|\n|     100077|    Michael Adams|james46@price-wil...|2020-06-13|    Invalid Email|\n|     100079|      Aaron Clark|osutton@wyatt-wal...|2022-08-30|    Invalid Email|\n|     100080| Jacqueline Moore|       invalid_email|2023-07-11|    Invalid Email|\n|     100082|   Katelyn Warren|mooremelinda@lee-...|2021-01-25|    Invalid Email|\n|     100084|   Ashley Leonard|angelica70@park-o...|2024-03-30|    Invalid Email|\n|     100085|      Jamie Lopez|alleneric@james-r...|2023-11-25|    Invalid Email|\n+-----------+-----------------+--------------------+----------+-----------------+\nonly showing top 20 rows\n\n"
     ]
    }
   ],
   "source": [
    "customers_df_validated = customers_df_errors.filter(col(\"Validation Errors\") == \"\")\n",
    "customers_df_invalid = customers_df_errors.filter(col(\"Validation Errors\") != \"\")\n",
    "customers_df_validated.show()\n",
    "customers_df_invalid.show()"
   ]
  },
  {
   "cell_type": "code",
   "execution_count": 0,
   "metadata": {
    "application/vnd.databricks.v1+cell": {
     "cellMetadata": {
      "byteLimit": 2048000,
      "rowLimit": 10000
     },
     "inputWidgets": {},
     "nuid": "562fafa6-9d2f-4961-8672-d6bcb99d78db",
     "showTitle": false,
     "tableResultSettingsMap": {},
     "title": ""
    }
   },
   "outputs": [],
   "source": [
    "w = Window.partitionBy(col(\"product_id\"))\n",
    "products_df_errors = products_df.withColumn(\"id_count\" , count(\"product_id\").over(w)).withColumn(\"Validation Errors\" , concat_ws(\", \" ,\n",
    "\n",
    "array(\n",
    "\n",
    "when((col(\"id_count\") > 1) , lit(\"Duplicate Product ID\")),\n",
    "when(col(\"product_id\").isNull() , lit(\"Invalid Product ID\")) ,\n",
    "when(~col(\"category\").isin(\"electronics\" , \"clothing\" , \"grocery\" , \"automotive\") , lit(\"Invalid Category\")),\n",
    "when(length(split(col(\"price\").cast(\"string\") , \"\\\\.\").getItem(1)) > 2 , lit(\"Invalid Price\"))\n",
    "\n",
    ")\n",
    ")                                                                                                                                 \n",
    ").drop(\"id_count\")"
   ]
  },
  {
   "cell_type": "code",
   "execution_count": 0,
   "metadata": {
    "application/vnd.databricks.v1+cell": {
     "cellMetadata": {
      "byteLimit": 2048000,
      "rowLimit": 10000
     },
     "inputWidgets": {},
     "nuid": "8608eae8-7e53-4dc4-8d44-07fe0b5168c0",
     "showTitle": false,
     "tableResultSettingsMap": {},
     "title": ""
    }
   },
   "outputs": [
    {
     "output_type": "stream",
     "name": "stdout",
     "output_type": "stream",
     "text": [
      "+----------+--------+-----------+------+-----------------+\n|product_id|    name|   category| price|Validation Errors|\n+----------+--------+-----------+------+-----------------+\n|    200002|  public|   clothing|214.39|                 |\n|    200003|    game|electronics|598.13|                 |\n|    200004|  member|electronics|599.65|                 |\n|    200005|    call| automotive|988.83|                 |\n|    200006|      Mr|   clothing|435.63|                 |\n|    200007|response| automotive|548.25|                 |\n|    200008|together| automotive|722.85|                 |\n|    200009|   about|    grocery|156.16|                 |\n|    200010|     cut|    grocery|123.03|                 |\n|    200012|    east|    grocery|696.54|                 |\n+----------+--------+-----------+------+-----------------+\nonly showing top 10 rows\n\n+----------+--------+-----------+------+--------------------+\n|product_id|    name|   category| price|   Validation Errors|\n+----------+--------+-----------+------+--------------------+\n|    200000|     eat|    grocery|193.50|Duplicate Product ID|\n|    200000|    pull|   clothing|369.71|Duplicate Product ID|\n|    200001|     yet|invalid_cat|752.83|Duplicate Product...|\n|    200001|   carry|invalid_cat|759.99|Duplicate Product...|\n|    200011|     gas|       toys|334.74|    Invalid Category|\n|    200013| serious|       toys|171.29|    Invalid Category|\n|    200016|strategy|       toys|123.89|    Invalid Category|\n|    200019|   south|       toys|254.58|    Invalid Category|\n|    200020|   north|invalid_cat| 21.66|    Invalid Category|\n|    200029|    play|       toys|104.87|    Invalid Category|\n+----------+--------+-----------+------+--------------------+\nonly showing top 10 rows\n\n"
     ]
    }
   ],
   "source": [
    "products_df_validated = products_df_errors.filter(col(\"Validation Errors\") == \"\")\n",
    "products_df_invalid = products_df_errors.filter(col(\"Validation Errors\") != \"\")\n",
    "products_df_validated.show(10)\n",
    "products_df_invalid.show(10)"
   ]
  },
  {
   "cell_type": "code",
   "execution_count": 0,
   "metadata": {
    "application/vnd.databricks.v1+cell": {
     "cellMetadata": {
      "byteLimit": 2048000,
      "rowLimit": 10000
     },
     "inputWidgets": {},
     "nuid": "e6f62b96-291e-4d18-a922-057c7f2bb0cb",
     "showTitle": false,
     "tableResultSettingsMap": {},
     "title": ""
    }
   },
   "outputs": [],
   "source": [
    "w1 = Window.partitionBy(col(\"promotion_id\"))\n",
    "promotions_df_errors = promotions_df.withColumn(\"promotions_id_count\" , count(\"promotion_id\").over(w1)).withColumn(\"Validation Errors\" , \n",
    "                                                                                                                  \n",
    "       concat_ws(\", \" , array(\n",
    "           when(col(\"promotions_id_count\") > 1 , lit(\"Duplicate Promotion ID\")),\n",
    "           when(col(\"promotion_id\").isNull() , lit(\"Invalid Promotion ID\")),\n",
    "           when((col(\"discount_rate\") < 0) | (col(\"discount_rate\") > 100) , lit(\"Invalid Discount Rate\")),\n",
    "           when(col(\"start_date\") > col(\"end_date\") , lit(\"End Date is less than Start Date\"))\n",
    "       ))                                                                                                           \n",
    "    ).drop(\"promotions_id_count\")"
   ]
  },
  {
   "cell_type": "code",
   "execution_count": 0,
   "metadata": {
    "application/vnd.databricks.v1+cell": {
     "cellMetadata": {
      "byteLimit": 2048000,
      "rowLimit": 10000
     },
     "inputWidgets": {},
     "nuid": "02da3aa1-edd4-4b27-815d-c7560a5a43e2",
     "showTitle": false,
     "tableResultSettingsMap": {},
     "title": ""
    }
   },
   "outputs": [
    {
     "output_type": "stream",
     "name": "stdout",
     "output_type": "stream",
     "text": [
      "+------------+-------------+----------+----------+-----------------+\n|promotion_id|discount_rate|start_date|  end_date|Validation Errors|\n+------------+-------------+----------+----------+-----------------+\n|      400003|        28.71|2024-04-12|2024-11-26|                 |\n|      400004|        80.49|2025-03-19|2025-07-12|                 |\n|      400005|        48.96|2023-06-27|2023-10-27|                 |\n|      400006|        79.15|2024-11-15|2025-07-02|                 |\n|      400007|        82.49|2024-10-16|2024-11-20|                 |\n|      400008|         1.89|2023-06-25|2024-01-07|                 |\n|      400009|         42.2|2025-04-13|2026-02-28|                 |\n|      400011|        27.74|2024-03-31|2025-01-05|                 |\n|      400012|        82.77|2025-02-04|2025-07-14|                 |\n|      400014|        88.56|2024-11-13|2025-10-01|                 |\n+------------+-------------+----------+----------+-----------------+\nonly showing top 10 rows\n\n+------------+-------------+----------+----------+--------------------+\n|promotion_id|discount_rate|start_date|  end_date|   Validation Errors|\n+------------+-------------+----------+----------+--------------------+\n|      400000|        51.53|2025-02-26|2025-02-05|Duplicate Promoti...|\n|      400000|        -9.94|2023-09-07|2024-06-29|Duplicate Promoti...|\n|      400001|       108.86|2024-09-19|2025-01-25|Duplicate Promoti...|\n|      400001|        96.59|2024-01-03|2024-07-14|Duplicate Promoti...|\n|      400002|        55.27|2024-04-06|2024-10-17|Duplicate Promoti...|\n|      400002|        84.43|2023-11-07|2024-04-19|Duplicate Promoti...|\n|      400010|       115.03|2023-06-29|2023-08-18|Invalid Discount ...|\n|      400013|        -8.72|2023-12-22|2024-09-01|Invalid Discount ...|\n|      400025|        84.34|2023-07-08|2023-07-01|End Date is less ...|\n|      400028|        -7.47|2024-09-08|2025-02-18|Invalid Discount ...|\n+------------+-------------+----------+----------+--------------------+\nonly showing top 10 rows\n\n"
     ]
    }
   ],
   "source": [
    "promotions_df_validated = promotions_df_errors.filter(col(\"Validation Errors\") == \"\")\n",
    "promotions_df_invalid = promotions_df_errors.filter(col(\"Validation Errors\") != \"\")\n",
    "promotions_df_validated.show(10)\n",
    "promotions_df_invalid.show(10)\n"
   ]
  }
 ],
 "metadata": {
  "application/vnd.databricks.v1+notebook": {
   "computePreferences": null,
   "dashboards": [],
   "environmentMetadata": {
    "base_environment": "",
    "environment_version": "1"
   },
   "inputWidgetPreferences": null,
   "language": "python",
   "notebookMetadata": {
    "mostRecentlyExecutedCommandWithImplicitDF": {
     "commandId": 109937928737704,
     "dataframes": [
      "_sqldf"
     ]
    },
    "pythonIndentUnit": 4
   },
   "notebookName": "Data_Validation",
   "widgets": {}
  }
 },
 "nbformat": 4,
 "nbformat_minor": 0
}